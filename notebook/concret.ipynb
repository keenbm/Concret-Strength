{
 "cells": [
  {
   "cell_type": "code",
   "execution_count": 7,
   "metadata": {},
   "outputs": [
    {
     "name": "stdout",
     "output_type": "stream",
     "text": [
      "The Student age using index is : 19\n",
      "The Student name using keyname is : Nandini\n"
     ]
    }
   ],
   "source": [
    "from collections import namedtuple\n",
    "## Named Tuple\n",
    "# Declaring namedtuple()\n",
    "Student = namedtuple('Student', ['name', 'age', 'DOB'])\n",
    " \n",
    "# Adding values\n",
    "S = Student('Nandini', '19', None)\n",
    " \n",
    "# Access using index\n",
    "print(\"The Student age using index is : \", end=\"\")\n",
    "print(S[1])\n",
    " \n",
    "# Access using name\n",
    "print(\"The Student name using keyname is : \", end=\"\")\n",
    "print(S.name)\n"
   ]
  },
  {
   "cell_type": "code",
   "execution_count": 10,
   "metadata": {},
   "outputs": [
    {
     "name": "stdout",
     "output_type": "stream",
     "text": [
      "<class '__main__.Student'>\n"
     ]
    }
   ],
   "source": [
    "print(Student)"
   ]
  },
  {
   "cell_type": "code",
   "execution_count": 19,
   "metadata": {},
   "outputs": [
    {
     "data": {
      "text/plain": [
       "{'pipeline_name': 'concret', 'artifact_dir': 'artifact'}"
      ]
     },
     "execution_count": 19,
     "metadata": {},
     "output_type": "execute_result"
    }
   ],
   "source": [
    "## Reading YAML File\n",
    "\n",
    "import os\n",
    "import yaml\n",
    "os.chdir('g:\\\\1.DataScience\\\\Projects\\\\Concret-Strength')\n",
    "file_path=os.path.join(os.getcwd(),\"config\\\\config.yaml\")\n",
    "with open(file_path, 'rb') as yaml_file:\n",
    "            config=yaml.safe_load(yaml_file)\n",
    "            #print(config)\n",
    "\n",
    "from concret.constant import *\n",
    "# this get value of specific key from YAML file\n",
    "config[TRAINING_PIPELINE_CONFIG_KEY]  # TRAINING_PIPELINE_CONFIG_KEY defined in constant"
   ]
  },
  {
   "cell_type": "code",
   "execution_count": 1,
   "metadata": {},
   "outputs": [
    {
     "data": {
      "text/plain": [
       "'g:\\\\1.DataScience\\\\Projects\\\\Concret-Strength'"
      ]
     },
     "execution_count": 1,
     "metadata": {},
     "output_type": "execute_result"
    }
   ],
   "source": [
    "os.chdir('g:\\\\1.DataScience\\\\Projects\\\\Concret-Strength')\n",
    "os.getcwd()"
   ]
  },
  {
   "cell_type": "code",
   "execution_count": 2,
   "metadata": {},
   "outputs": [
    {
     "name": "stderr",
     "output_type": "stream",
     "text": [
      "[2022-07-10 17:38:04,424] root - INFO - Training Pipeline Configuration created as : TrainingPipelineConfig(artifact_dir='g:\\\\1.DataScience\\\\Projects\\\\Concret-Strength\\\\concret\\\\artifact')\n",
      "[2022-07-10 17:38:04,427] root - INFO - Data Ingestion Configuration created as : DataIngestionConfig(dataset_source_url='https://archive.ics.uci.edu/ml/machine-learning-databases/concrete/compressive/Concrete_Data.xls', download_dir='g:\\\\1.DataScience\\\\Projects\\\\Concret-Strength\\\\concret\\\\artifact\\\\data_ingestion\\\\2022-07-10-17-38-04\\\\downloaded_data', raw_data_dir='g:\\\\1.DataScience\\\\Projects\\\\Concret-Strength\\\\concret\\\\artifact\\\\data_ingestion\\\\2022-07-10-17-38-04\\\\raw_data', ingested_train_dir='g:\\\\1.DataScience\\\\Projects\\\\Concret-Strength\\\\concret\\\\artifact\\\\data_ingestion\\\\2022-07-10-17-38-04\\\\ingested_data\\\\train', ingested_test_dir='g:\\\\1.DataScience\\\\Projects\\\\Concret-Strength\\\\concret\\\\artifact\\\\data_ingestion\\\\2022-07-10-17-38-04\\\\ingested_data\\\\test')\n",
      "[2022-07-10 17:38:04,503] root - INFO - Data Validation Configuration created as : DataValidationConfig(schema_file_path='g:\\\\1.DataScience\\\\Projects\\\\Concret-Strength\\\\config\\\\schema.yaml', report_file_path='g:\\\\1.DataScience\\\\Projects\\\\Concret-Strength\\\\concret\\\\artifact\\\\data_validation\\\\2022-07-10-17-38-04\\\\report.json', report_page_file_path='g:\\\\1.DataScience\\\\Projects\\\\Concret-Strength\\\\concret\\\\artifact\\\\data_validation\\\\2022-07-10-17-38-04\\\\report.html')\n"
     ]
    }
   ],
   "source": [
    "from concret.config.configuration import Configuration\n",
    "config=Configuration()\n",
    "#config.get_training_pipeline_config()\n",
    "#data_ingestion_config=config.get_data_ingestion_config()"
   ]
  },
  {
   "cell_type": "code",
   "execution_count": null,
   "metadata": {},
   "outputs": [],
   "source": [
    "config.get_data_validation_config()"
   ]
  },
  {
   "cell_type": "code",
   "execution_count": 11,
   "metadata": {},
   "outputs": [
    {
     "data": {
      "text/plain": [
       "DataIngestionConfig(dataset_download_url='https://archive.ics.uci.edu/ml/machine-learning-databases/concrete/compressive/Concrete_Data.xls', download_dir='g:\\\\1.DataScience\\\\Projects\\\\Concret-Strength\\\\concret\\\\artifact\\\\data_ingestion\\\\2022-07-10-13-36-22\\\\downloaded_data', raw_data_dir='g:\\\\1.DataScience\\\\Projects\\\\Concret-Strength\\\\concret\\\\artifact\\\\data_ingestion\\\\2022-07-10-13-36-22\\\\raw_data', ingested_train_dir='g:\\\\1.DataScience\\\\Projects\\\\Concret-Strength\\\\concret\\\\artifact\\\\data_ingestion\\\\2022-07-10-13-36-22\\\\ingested_data\\\\train', ingested_test_dir='g:\\\\1.DataScience\\\\Projects\\\\Concret-Strength\\\\concret\\\\artifact\\\\data_ingestion\\\\2022-07-10-13-36-22\\\\ingested_data\\\\test')"
      ]
     },
     "execution_count": 11,
     "metadata": {},
     "output_type": "execute_result"
    }
   ],
   "source": [
    "data_ingestion_config"
   ]
  },
  {
   "cell_type": "code",
   "execution_count": 13,
   "metadata": {},
   "outputs": [
    {
     "data": {
      "text/plain": [
       "'https://archive.ics.uci.edu/ml/machine-learning-databases/concrete/compressive/Concrete_Data.xls'"
      ]
     },
     "execution_count": 13,
     "metadata": {},
     "output_type": "execute_result"
    }
   ],
   "source": [
    "download_url=data_ingestion_config.dataset_download_url\n",
    "download_url"
   ]
  },
  {
   "cell_type": "code",
   "execution_count": 14,
   "metadata": {},
   "outputs": [
    {
     "data": {
      "text/plain": [
       "'Concrete_Data.xls'"
      ]
     },
     "execution_count": 14,
     "metadata": {},
     "output_type": "execute_result"
    }
   ],
   "source": [
    "os.path.basename(download_url)"
   ]
  },
  {
   "cell_type": "code",
   "execution_count": 3,
   "metadata": {},
   "outputs": [
    {
     "data": {
      "text/plain": [
       "'g:\\\\1.DataScience\\\\Projects\\\\Concret-Strength'"
      ]
     },
     "execution_count": 3,
     "metadata": {},
     "output_type": "execute_result"
    }
   ],
   "source": [
    "os.getcwd()"
   ]
  },
  {
   "cell_type": "code",
   "execution_count": 28,
   "metadata": {},
   "outputs": [],
   "source": [
    "fp=\"/folder/soundfile.xlsx\"\n",
    "ext = "
   ]
  },
  {
   "cell_type": "code",
   "execution_count": 29,
   "metadata": {},
   "outputs": [
    {
     "data": {
      "text/plain": [
       "'.xls'"
      ]
     },
     "execution_count": 29,
     "metadata": {},
     "output_type": "execute_result"
    }
   ],
   "source": [
    "ext"
   ]
  },
  {
   "cell_type": "code",
   "execution_count": 17,
   "metadata": {},
   "outputs": [
    {
     "ename": "SyntaxError",
     "evalue": "Missing parentheses in call to 'print'. Did you mean print(fp, \"is an mp3!\")? (226198610.py, line 11)",
     "output_type": "error",
     "traceback": [
      "\u001b[1;36m  File \u001b[1;32m\"C:\\Users\\Keen\\AppData\\Local\\Temp\\ipykernel_59420\\226198610.py\"\u001b[1;36m, line \u001b[1;32m11\u001b[0m\n\u001b[1;33m    print fp, \"is an mp3!\"\u001b[0m\n\u001b[1;37m           ^\u001b[0m\n\u001b[1;31mSyntaxError\u001b[0m\u001b[1;31m:\u001b[0m Missing parentheses in call to 'print'. Did you mean print(fp, \"is an mp3!\")?\n"
     ]
    }
   ],
   "source": [
    "import os\n",
    "\n",
    "filepaths = [\"/folder/soundfile.mp3\", \"folder1/folder/soundfile.flac\"]\n",
    "\n",
    "for fp in filepaths:\n",
    "    # Split the extension from the path and normalise it to lowercase.\n",
    "    ext = os.path.splitext(fp)[-1].lower()\n",
    "\n",
    "    # Now we can simply use == to check for equality, no need for wildcards.\n",
    "    if ext == \".mp3\":\n",
    "        print fp, \"is an mp3!\"\n",
    "    elif ext == \".flac\":\n",
    "        print fp, \"is a flac file!\"\n",
    "    else:\n",
    "        print fp, \"is an unknown file format.\""
   ]
  },
  {
   "cell_type": "code",
   "execution_count": null,
   "metadata": {},
   "outputs": [],
   "source": [
    "            if os.path.splitext(file_name)[-1].lower()[:4]==\".xls\":\n",
    "                raw_data_frame=pd.read_excel(raw_data_file_path) \n",
    "            else:\n",
    "                raw_data_frame=pd.read_csv(raw_data_file_path)"
   ]
  },
  {
   "cell_type": "code",
   "execution_count": 4,
   "metadata": {},
   "outputs": [],
   "source": [
    "import pandas as pd"
   ]
  },
  {
   "cell_type": "code",
   "execution_count": 5,
   "metadata": {},
   "outputs": [],
   "source": [
    "df=pd.read_excel(\"C:\\\\Users\\\\Keen\\\\Downloads\\\\Concrete_Data.xls\")"
   ]
  },
  {
   "cell_type": "code",
   "execution_count": 6,
   "metadata": {},
   "outputs": [
    {
     "data": {
      "text/plain": [
       "['Cement (component 1)(kg in a m^3 mixture)',\n",
       " 'Blast Furnace Slag (component 2)(kg in a m^3 mixture)',\n",
       " 'Fly Ash (component 3)(kg in a m^3 mixture)',\n",
       " 'Water  (component 4)(kg in a m^3 mixture)',\n",
       " 'Superplasticizer (component 5)(kg in a m^3 mixture)',\n",
       " 'Coarse Aggregate  (component 6)(kg in a m^3 mixture)',\n",
       " 'Fine Aggregate (component 7)(kg in a m^3 mixture)',\n",
       " 'Age (day)',\n",
       " 'Concrete compressive strength(MPa, megapascals) ']"
      ]
     },
     "execution_count": 6,
     "metadata": {},
     "output_type": "execute_result"
    }
   ],
   "source": [
    "list(df.columns)"
   ]
  },
  {
   "cell_type": "code",
   "execution_count": 18,
   "metadata": {},
   "outputs": [
    {
     "data": {
      "text/plain": [
       "True"
      ]
     },
     "execution_count": 18,
     "metadata": {},
     "output_type": "execute_result"
    }
   ],
   "source": [
    "list(df.columns)==list(df.columns)"
   ]
  },
  {
   "cell_type": "code",
   "execution_count": null,
   "metadata": {},
   "outputs": [],
   "source": [
    "['Cement (component 1)(kg in a m^3 mixture)',\n",
    "'Blast Furnace Slag (component 2)(kg in a m^3 mixture)',\n",
    " 'Fly Ash (component 3)(kg in a m^3 mixture)',\n",
    " 'Water  (component 4)(kg in a m^3 mixture)',\n",
    " 'Superplasticizer (component 5)(kg in a m^3 mixture)',\n",
    " 'Coarse Aggregate  (component 6)(kg in a m^3 mixture)',\n",
    " 'Fine Aggregate (component 7)(kg in a m^3 mixture)',\n",
    " 'Age (day)',\n",
    " 'Concrete compressive strength(MPa, megapascals) ']\n",
    "\n",
    " df.columns = ['new_col1', 'new_col2', 'new_col3', 'new_col4']"
   ]
  },
  {
   "cell_type": "code",
   "execution_count": 13,
   "metadata": {},
   "outputs": [],
   "source": [
    "from sklearn.model_selection import train_test_split"
   ]
  },
  {
   "cell_type": "code",
   "execution_count": 14,
   "metadata": {},
   "outputs": [],
   "source": [
    "train_set, test_set= train_test_split(df,random_state=0, train_size = .75)"
   ]
  },
  {
   "cell_type": "code",
   "execution_count": 17,
   "metadata": {},
   "outputs": [
    {
     "data": {
      "text/plain": [
       "(258, 9)"
      ]
     },
     "execution_count": 17,
     "metadata": {},
     "output_type": "execute_result"
    }
   ],
   "source": [
    "test_set.shape"
   ]
  },
  {
   "cell_type": "code",
   "execution_count": 1,
   "metadata": {},
   "outputs": [],
   "source": [
    "import os\n",
    "import yaml\n",
    "os.chdir('g:\\\\1.DataScience\\\\Projects\\\\Concret-Strength')\n",
    "file_path=os.path.join(os.getcwd(),\"config\\\\schema.yaml\")\n",
    "with open(file_path, 'rb') as yaml_file:\n",
    "            config=yaml.safe_load(yaml_file)\n",
    "            #print(config)\n",
    "\n",
    "from concret.constant import *"
   ]
  },
  {
   "cell_type": "code",
   "execution_count": 2,
   "metadata": {},
   "outputs": [
    {
     "data": {
      "text/plain": [
       "'Concrete compressive strength(MPa, megapascals) '"
      ]
     },
     "execution_count": 2,
     "metadata": {},
     "output_type": "execute_result"
    }
   ],
   "source": [
    "list(config['column_name_map'].keys())[-1]"
   ]
  },
  {
   "cell_type": "code",
   "execution_count": 7,
   "metadata": {},
   "outputs": [
    {
     "data": {
      "text/plain": [
       "True"
      ]
     },
     "execution_count": 7,
     "metadata": {},
     "output_type": "execute_result"
    }
   ],
   "source": [
    "list(df.columns)[-1]==list(config['column_name_map'].keys())[-1]"
   ]
  }
 ],
 "metadata": {
  "kernelspec": {
   "display_name": "Python 3.7.0 (conda)",
   "language": "python",
   "name": "python3"
  },
  "language_info": {
   "codemirror_mode": {
    "name": "ipython",
    "version": 3
   },
   "file_extension": ".py",
   "mimetype": "text/x-python",
   "name": "python",
   "nbconvert_exporter": "python",
   "pygments_lexer": "ipython3",
   "version": "3.7.0"
  },
  "orig_nbformat": 4,
  "vscode": {
   "interpreter": {
    "hash": "0f55402a52fcfc85440b31427194d29a1184ea62e6b6b55fb30e7307f3d4d0cc"
   }
  }
 },
 "nbformat": 4,
 "nbformat_minor": 2
}
