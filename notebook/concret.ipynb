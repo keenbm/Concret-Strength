{
 "cells": [
  {
   "cell_type": "code",
   "execution_count": null,
   "metadata": {},
   "outputs": [],
   "source": [
    "from collections import namedtuple\n",
    "## Named Tuple\n",
    "# Declaring namedtuple()\n",
    "Student = namedtuple('Student', ['name', 'age', 'DOB'])\n",
    " \n",
    "# Adding values\n",
    "S = Student('Nandini', '19', None)\n",
    " \n",
    "# Access using index\n",
    "print(\"The Student age using index is : \", end=\"\")\n",
    "print(S[1])\n",
    " \n",
    "# Access using name\n",
    "print(\"The Student name using keyname is : \", end=\"\")\n",
    "print(S.name)\n"
   ]
  },
  {
   "cell_type": "code",
   "execution_count": null,
   "metadata": {},
   "outputs": [],
   "source": [
    "print(Student)"
   ]
  },
  {
   "cell_type": "code",
   "execution_count": null,
   "metadata": {},
   "outputs": [],
   "source": [
    "## Reading YAML File\n",
    "\n",
    "import os\n",
    "import yaml\n",
    "os.chdir('g:\\\\1.DataScience\\\\Projects\\\\Concret-Strength')\n",
    "file_path=os.path.join(os.getcwd(),\"config\\\\config.yaml\")\n",
    "with open(file_path, 'rb') as yaml_file:\n",
    "            config=yaml.safe_load(yaml_file)\n",
    "            #print(config)\n",
    "\n",
    "from concret.constant import *\n",
    "# this get value of specific key from YAML file\n",
    "config[TRAINING_PIPELINE_CONFIG_KEY]  # TRAINING_PIPELINE_CONFIG_KEY defined in constant"
   ]
  },
  {
   "cell_type": "code",
   "execution_count": 1,
   "metadata": {},
   "outputs": [
    {
     "data": {
      "text/plain": [
       "'g:\\\\1.DataScience\\\\Projects\\\\Concret-Strength'"
      ]
     },
     "execution_count": 1,
     "metadata": {},
     "output_type": "execute_result"
    }
   ],
   "source": [
    "os.chdir('g:\\\\1.DataScience\\\\Projects\\\\Concret-Strength')\n",
    "os.getcwd()"
   ]
  },
  {
   "cell_type": "code",
   "execution_count": 2,
   "metadata": {},
   "outputs": [
    {
     "name": "stderr",
     "output_type": "stream",
     "text": [
      "[2022-07-11 13:21:03,488] root - INFO - Training Pipeline Configuration created as : TrainingPipelineConfig(artifact_dir='g:\\\\1.DataScience\\\\Projects\\\\Concret-Strength\\\\concret\\\\artifact')\n",
      "[2022-07-11 13:21:03,493] root - INFO - Data Ingestion Configuration created as : DataIngestionConfig(dataset_source_url='https://archive.ics.uci.edu/ml/machine-learning-databases/concrete/compressive/Concrete_Data.xls', download_dir='g:\\\\1.DataScience\\\\Projects\\\\Concret-Strength\\\\concret\\\\artifact\\\\data_ingestion\\\\2022-07-11-13-21-03\\\\downloaded_data', raw_data_dir='g:\\\\1.DataScience\\\\Projects\\\\Concret-Strength\\\\concret\\\\artifact\\\\data_ingestion\\\\2022-07-11-13-21-03\\\\raw_data', ingested_train_dir='g:\\\\1.DataScience\\\\Projects\\\\Concret-Strength\\\\concret\\\\artifact\\\\data_ingestion\\\\2022-07-11-13-21-03\\\\ingested_data\\\\train', ingested_test_dir='g:\\\\1.DataScience\\\\Projects\\\\Concret-Strength\\\\concret\\\\artifact\\\\data_ingestion\\\\2022-07-11-13-21-03\\\\ingested_data\\\\test')\n",
      "[2022-07-11 13:21:03,497] root - INFO - Data Validation Configuration created as : DataValidationConfig(schema_file_path='g:\\\\1.DataScience\\\\Projects\\\\Concret-Strength\\\\config\\\\schema.yaml', report_file_path='g:\\\\1.DataScience\\\\Projects\\\\Concret-Strength\\\\concret\\\\artifact\\\\data_validation\\\\2022-07-11-13-21-03\\\\report.json', report_page_file_path='g:\\\\1.DataScience\\\\Projects\\\\Concret-Strength\\\\concret\\\\artifact\\\\data_validation\\\\2022-07-11-13-21-03\\\\report.html')\n",
      "[2022-07-11 13:21:03,498] root - INFO - Data transformation config: DataTransformationConfig(add_new_col=False, transformed_train_dir='g:\\\\1.DataScience\\\\Projects\\\\Concret-Strength\\\\concret\\\\artifact\\\\data_transformation\\\\2022-07-11-13-21-03\\\\transformed_data\\\\train', transformed_test_dir='g:\\\\1.DataScience\\\\Projects\\\\Concret-Strength\\\\concret\\\\artifact\\\\data_transformation\\\\2022-07-11-13-21-03\\\\transformed_data\\\\test', preprocessed_object_file_path='g:\\\\1.DataScience\\\\Projects\\\\Concret-Strength\\\\concret\\\\artifact\\\\data_transformation\\\\2022-07-11-13-21-03\\\\preprocessed\\\\preprocessed.pkl')\n"
     ]
    }
   ],
   "source": [
    "from concret.config.configuration import Configuration\n",
    "config=Configuration()\n",
    "#config.get_training_pipeline_config()\n",
    "#data_ingestion_config=config.get_data_ingestion_config()\n",
    "#data_validation_config=config.get_data_validation_config()\n",
    "#data_transform_config=config.get_data_transformation_config()"
   ]
  },
  {
   "cell_type": "code",
   "execution_count": null,
   "metadata": {},
   "outputs": [],
   "source": [
    "config.get_data_transformation_config()"
   ]
  },
  {
   "cell_type": "code",
   "execution_count": 3,
   "metadata": {},
   "outputs": [
    {
     "name": "stderr",
     "output_type": "stream",
     "text": [
      "[2022-07-11 13:21:08,224] root - INFO - Data Validation Configuration created as : DataValidationConfig(schema_file_path='g:\\\\1.DataScience\\\\Projects\\\\Concret-Strength\\\\config\\\\schema.yaml', report_file_path='g:\\\\1.DataScience\\\\Projects\\\\Concret-Strength\\\\concret\\\\artifact\\\\data_validation\\\\2022-07-11-13-21-03\\\\report.json', report_page_file_path='g:\\\\1.DataScience\\\\Projects\\\\Concret-Strength\\\\concret\\\\artifact\\\\data_validation\\\\2022-07-11-13-21-03\\\\report.html')\n"
     ]
    },
    {
     "data": {
      "text/plain": [
       "DataValidationConfig(schema_file_path='g:\\\\1.DataScience\\\\Projects\\\\Concret-Strength\\\\config\\\\schema.yaml', report_file_path='g:\\\\1.DataScience\\\\Projects\\\\Concret-Strength\\\\concret\\\\artifact\\\\data_validation\\\\2022-07-11-13-21-03\\\\report.json', report_page_file_path='g:\\\\1.DataScience\\\\Projects\\\\Concret-Strength\\\\concret\\\\artifact\\\\data_validation\\\\2022-07-11-13-21-03\\\\report.html')"
      ]
     },
     "execution_count": 3,
     "metadata": {},
     "output_type": "execute_result"
    }
   ],
   "source": [
    "config.get_data_validation_config()"
   ]
  },
  {
   "cell_type": "code",
   "execution_count": 4,
   "metadata": {},
   "outputs": [],
   "source": [
    "import pandas as pd"
   ]
  },
  {
   "cell_type": "code",
   "execution_count": 41,
   "metadata": {},
   "outputs": [
    {
     "data": {
      "text/plain": [
       "['Cement',\n",
       " 'Furnace_Slag',\n",
       " 'Fly_Ash',\n",
       " 'Water',\n",
       " 'Superplasticizer',\n",
       " 'Coarse_Aggregate',\n",
       " 'Fine_Aggregate',\n",
       " 'Age',\n",
       " 'Concrete_Compressive_Strength']"
      ]
     },
     "execution_count": 41,
     "metadata": {},
     "output_type": "execute_result"
    }
   ],
   "source": [
    "df=pd.read_csv(\"G:\\\\1.DataScience\\\\Projects\\\\Concret-Strength\\\\concret\\\\artifact\\\\data_ingestion\\\\2022-07-11-14-09-28\\\\ingested_data\\\\test\\\\test_data.csv\")\n",
    "list(df.columns)"
   ]
  },
  {
   "cell_type": "code",
   "execution_count": 7,
   "metadata": {},
   "outputs": [
    {
     "data": {
      "text/plain": [
       "['Cement (component 1)(kg in a m^3 mixture)',\n",
       " 'Blast Furnace Slag (component 2)(kg in a m^3 mixture)',\n",
       " 'Fly Ash (component 3)(kg in a m^3 mixture)',\n",
       " 'Water  (component 4)(kg in a m^3 mixture)',\n",
       " 'Superplasticizer (component 5)(kg in a m^3 mixture)',\n",
       " 'Coarse Aggregate  (component 6)(kg in a m^3 mixture)',\n",
       " 'Fine Aggregate (component 7)(kg in a m^3 mixture)',\n",
       " 'Age (day)',\n",
       " 'Concrete compressive strength(MPa, megapascals) ']"
      ]
     },
     "execution_count": 7,
     "metadata": {},
     "output_type": "execute_result"
    }
   ],
   "source": [
    "df.str"
   ]
  },
  {
   "cell_type": "code",
   "execution_count": null,
   "metadata": {},
   "outputs": [],
   "source": [
    "list(df.columns)==list(df.columns)"
   ]
  },
  {
   "cell_type": "code",
   "execution_count": null,
   "metadata": {},
   "outputs": [],
   "source": [
    "['Cement (component 1)(kg in a m^3 mixture)',\n",
    "'Blast Furnace Slag (component 2)(kg in a m^3 mixture)',\n",
    " 'Fly Ash (component 3)(kg in a m^3 mixture)',\n",
    " 'Water  (component 4)(kg in a m^3 mixture)',\n",
    " 'Superplasticizer (component 5)(kg in a m^3 mixture)',\n",
    " 'Coarse Aggregate  (component 6)(kg in a m^3 mixture)',\n",
    " 'Fine Aggregate (component 7)(kg in a m^3 mixture)',\n",
    " 'Age (day)',\n",
    " 'Concrete compressive strength(MPa, megapascals) ']\n",
    "\n",
    " df.columns = ['new_col1', 'new_col2', 'new_col3', 'new_col4']"
   ]
  },
  {
   "cell_type": "code",
   "execution_count": null,
   "metadata": {},
   "outputs": [],
   "source": [
    "from sklearn.model_selection import train_test_split"
   ]
  },
  {
   "cell_type": "code",
   "execution_count": null,
   "metadata": {},
   "outputs": [],
   "source": [
    "train_set, test_set= train_test_split(df,random_state=0, train_size = .75)"
   ]
  },
  {
   "cell_type": "code",
   "execution_count": null,
   "metadata": {},
   "outputs": [],
   "source": [
    "test_set.shape"
   ]
  },
  {
   "cell_type": "code",
   "execution_count": 8,
   "metadata": {},
   "outputs": [],
   "source": [
    "import os\n",
    "import yaml\n",
    "os.chdir('g:\\\\1.DataScience\\\\Projects\\\\Concret-Strength')\n",
    "file_path=os.path.join(os.getcwd(),\"config\\\\schema.yaml\")\n",
    "with open(file_path, 'rb') as yaml_file:\n",
    "            config=yaml.safe_load(yaml_file)\n",
    "            #print(config)\n",
    "\n",
    "from concret.constant import *"
   ]
  },
  {
   "cell_type": "code",
   "execution_count": 11,
   "metadata": {},
   "outputs": [
    {
     "name": "stdout",
     "output_type": "stream",
     "text": [
      "No\n"
     ]
    }
   ],
   "source": [
    "if list(config['column_name_map'].keys())==list(df.columns):\n",
    "    print(\"Yes\")\n",
    "else:\n",
    "    print(\"No\")"
   ]
  },
  {
   "cell_type": "code",
   "execution_count": 42,
   "metadata": {},
   "outputs": [
    {
     "data": {
      "text/plain": [
       "True"
      ]
     },
     "execution_count": 42,
     "metadata": {},
     "output_type": "execute_result"
    }
   ],
   "source": [
    "list(config['columns'].keys())==list(df.columns)"
   ]
  },
  {
   "cell_type": "code",
   "execution_count": 39,
   "metadata": {},
   "outputs": [
    {
     "data": {
      "text/plain": [
       "['Cement',\n",
       " 'Furnace_Slag',\n",
       " 'Fly_Ash',\n",
       " 'Water',\n",
       " 'Superplasticizer',\n",
       " 'Coarse_Aggregate',\n",
       " 'Fine_Aggregate',\n",
       " 'Age',\n",
       " 'Concrete_Compressive_Strength']"
      ]
     },
     "execution_count": 39,
     "metadata": {},
     "output_type": "execute_result"
    }
   ],
   "source": []
  },
  {
   "cell_type": "code",
   "execution_count": 26,
   "metadata": {},
   "outputs": [
    {
     "data": {
      "text/plain": [
       "['Cement',\n",
       " 'Furnace_Slag',\n",
       " 'Fly_Ash',\n",
       " 'Water',\n",
       " 'Superplasticizer',\n",
       " 'Coarse_Aggregate',\n",
       " 'Fine_Aggregate',\n",
       " 'Age',\n",
       " 'Concrete_Compressive_Strength']"
      ]
     },
     "execution_count": 26,
     "metadata": {},
     "output_type": "execute_result"
    }
   ],
   "source": [
    "list(config['column_name_map'].values())"
   ]
  }
 ],
 "metadata": {
  "kernelspec": {
   "display_name": "Python 3.7.0 (conda)",
   "language": "python",
   "name": "python3"
  },
  "language_info": {
   "codemirror_mode": {
    "name": "ipython",
    "version": 3
   },
   "file_extension": ".py",
   "mimetype": "text/x-python",
   "name": "python",
   "nbconvert_exporter": "python",
   "pygments_lexer": "ipython3",
   "version": "3.7.0"
  },
  "orig_nbformat": 4,
  "vscode": {
   "interpreter": {
    "hash": "0f55402a52fcfc85440b31427194d29a1184ea62e6b6b55fb30e7307f3d4d0cc"
   }
  }
 },
 "nbformat": 4,
 "nbformat_minor": 2
}
